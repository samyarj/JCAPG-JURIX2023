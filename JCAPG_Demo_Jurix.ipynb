{
  "nbformat": 4,
  "nbformat_minor": 0,
  "metadata": {
    "colab": {
      "provenance": []
    },
    "kernelspec": {
      "name": "python3",
      "display_name": "Python 3"
    },
    "language_info": {
      "name": "python"
    }
  },
  "cells": [
    {
      "cell_type": "markdown",
      "source": [
        "# JCAPG Demo -- Jurix 2023"
      ],
      "metadata": {
        "id": "X0qY8HMTRXw0"
      }
    },
    {
      "cell_type": "code",
      "source": [
        "!pip install openai"
      ],
      "metadata": {
        "id": "5ScZsrkHQVqJ"
      },
      "execution_count": null,
      "outputs": []
    },
    {
      "cell_type": "code",
      "source": [
        "import os\n",
        "import openai\n",
        "import json\n",
        "from typing import Dict\n",
        "from getpass import getpass"
      ],
      "metadata": {
        "id": "FONgNgNKQftG"
      },
      "execution_count": null,
      "outputs": []
    },
    {
      "cell_type": "code",
      "source": [
        "# Enter OpenAI GPT-4 API key\n",
        "OPEN_AI_API_KEY = getpass('Enter OpenAI API Key here: ')"
      ],
      "metadata": {
        "id": "Py9O6adYQoRR"
      },
      "execution_count": null,
      "outputs": []
    },
    {
      "cell_type": "code",
      "source": [
        "# Setup OpenAI GPT-4 API key\n",
        "openai.api_key = OPEN_AI_API_KEY\n",
        "os.environ['OPENAI_API_KEY'] = openai.api_key"
      ],
      "metadata": {
        "id": "6zUw5NNOQz4O"
      },
      "execution_count": null,
      "outputs": []
    },
    {
      "cell_type": "code",
      "source": [
        "# This is the prompt used for Generating a pathway from scratch.\n",
        "analysis_prompt:str = \"\"\"\n",
        "Your task is to extract the logical structure of a piece of legislation.\n",
        "I will give you the text from a legislation. Determine the logical structure of the legislation and return it in a JSON format.\n",
        "\n",
        "The structure to use contains two types of nodes: Question Nodes and Information Nodes. Question nodes correspond to a logical requirement, i.e. a question that needs to be answered. Information nodes correspond to a logical conclusion, i.e. a logical consequence of the answers to the questions. Each node has a unique key and a text. Question nodes additionally have follow-up nodes, relating to the consequence that arises from answering a question in a certain way. Here, the key of the follow-up question or information block should be provided.\n",
        "\n",
        "In generating these nodes, you should follow these rules:\n",
        "- Each question node should be a question that can be answered with a \"yes\" or a \"no\".\n",
        "- Each information node should be a logical conclusion that can be drawn from the answers to the questions.\n",
        "- Do not interpret the legislation \"e contrario\". If the legislation offers only a positive outcome, the negative outcome should contain words such as \"according to this article\", to show that there may be other ways to obtain the outcomne.\n",
        "- Stick to the specific wording used in the provided legislation.\n",
        "- Do not include any information that is not explicitly stated in the legislation.\n",
        "- The pathway should not be recursive - make sure that there are no loops in the pathway. Each path should terminate in an info node with no follow-up node.\n",
        "- Break up the logical sequence of a legal paragraph into as many question nodes as possible.\n",
        "- Make sure that all logical requirements are included in the pathway.\n",
        "\n",
        "Without any comment, provide only a RFC8259 compliant JSON response following this format without deviation.\n",
        "{\n",
        "  \"1\": {\n",
        "    \"question\": \"Your first question goes here\",\n",
        "    \"yes_followup\": \"The key to another question if 'YES', an Information Node\",\n",
        "    \"no_followup\": \"The key to another question if 'NO' or an Information Node\"\n",
        "  },\n",
        "  \"2\": {\n",
        "    \"info\" : \"The information based on the user's response goes here\",\n",
        "    \"next_followup\": null  # example of  info bloc\n",
        "  }\n",
        "}\n",
        "\"\"\"\n"
      ],
      "metadata": {
        "id": "BKwzANVIQ7pZ"
      },
      "execution_count": null,
      "outputs": []
    },
    {
      "cell_type": "code",
      "source": [
        "class SemanticAnalysis:\n",
        "    \"\"\"\n",
        "    Class that analyses legislation and creates `JCAPG JSON`.\n",
        "    \"\"\"\n",
        "    def __init__(self, article: str, retries=3, model='gpt-4',\n",
        "                 temperature=1, top_p=1, frequency_penalty=0, presence_penalty=0) -> None:\n",
        "        self.system_context = analysis_prompt\n",
        "        self.retries = retries\n",
        "\n",
        "        # Model args\n",
        "        self.model = model\n",
        "        self.temperature = temperature\n",
        "        self.top_p = top_p\n",
        "        self.frequency_penalty = frequency_penalty\n",
        "        self.presence_penalty = presence_penalty\n",
        "\n",
        "        self.data = self.analyse_article(article)\n",
        "\n",
        "    def analyse_article(self, article_text: str):\n",
        "        \"\"\"\n",
        "        Asks GPT-4 model to return a pathway of a given article.\n",
        "        \"\"\"\n",
        "        for _ in range(self.retries + 1):\n",
        "            try:\n",
        "                response = openai.ChatCompletion.create(\n",
        "                    model=self.model,\n",
        "                    messages=[\n",
        "                        {\"role\": \"system\", \"content\": self.system_context},\n",
        "                        {\"role\": \"user\", \"content\": article_text},\n",
        "                    ],\n",
        "                    temperature=self.temperature,\n",
        "                    top_p=self.top_p,\n",
        "                    frequency_penalty=self.frequency_penalty,\n",
        "                    presence_penalty=self.presence_penalty\n",
        "                )\n",
        "                return self.get_dict_data(response[\"choices\"][0][\"message\"][\"content\"])  # type: ignore\n",
        "            except Exception as e:\n",
        "                print(f\"Failed to generate completion after {self.retries}: {e}\")\n",
        "\n",
        "    @staticmethod\n",
        "    def get_dict_data(data_string: str) -> Dict[str, str] or Dict[str, None]:\n",
        "        \"\"\"\n",
        "        Converts the data_string into a data_dictionary.\n",
        "        Raises an exception if the conversion fails.\n",
        "        \"\"\"\n",
        "        try:\n",
        "            data_dictionary = json.loads(data_string)\n",
        "            return data_dictionary\n",
        "        except:\n",
        "            raise Exception(\"Failed to decode data_string as JSON.\")\n"
      ],
      "metadata": {
        "id": "zqZNfSRHRgkW"
      },
      "execution_count": null,
      "outputs": []
    },
    {
      "cell_type": "code",
      "source": [
        "def main():\n",
        "    print(\"=== WELCOME TO `JCAPG` ===\")\n",
        "\n",
        "    # Enter API Key below -- must have access to GPT-4\n",
        "    openai.api_key = os.getenv(\"OPENAI_API_KEY\")\n",
        "    article_txt = input(\"Please insert legislation: \\n\")\n",
        "    print(\"\\nCalling API for Semantic analysis...\")\n",
        "\n",
        "    output = SemanticAnalysis(article=article_txt)\n",
        "\n",
        "\n",
        "    print(\"\\rAPI called!\")\n",
        "    print(\"Pathway JSON Generated: \\n\\n\")\n",
        "    print(output.data)\n",
        "\n",
        "    # End of program\n",
        "    print(\"\\n\\n=== End of Program ===\")"
      ],
      "metadata": {
        "id": "JaS_6raWP_6g"
      },
      "execution_count": null,
      "outputs": []
    },
    {
      "cell_type": "code",
      "source": [
        "if __name__ == '__main__':\n",
        "    main()"
      ],
      "metadata": {
        "id": "wbo13tYsSsTq"
      },
      "execution_count": null,
      "outputs": []
    }
  ]
}